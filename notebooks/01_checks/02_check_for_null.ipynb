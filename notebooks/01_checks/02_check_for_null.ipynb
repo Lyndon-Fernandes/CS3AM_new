{
 "cells": [
  {
   "cell_type": "code",
   "execution_count": 1,
   "metadata": {},
   "outputs": [],
   "source": [
    "\"\"\"\n",
    "``autoreload`` is an IPython extension that reloads modules\n",
    "automatically before executing the line of code typed.\n",
    "\"\"\"\n",
    "\n",
    "%load_ext autoreload\n",
    "%autoreload 2"
   ]
  },
  {
   "cell_type": "code",
   "execution_count": 2,
   "metadata": {},
   "outputs": [],
   "source": [
    "import pandas as pd\n",
    "import numpy as np\n",
    "from pathlib import Path\n",
    "\n",
    "import matplotlib.pyplot as plt\n",
    "import seaborn as sns"
   ]
  },
  {
   "cell_type": "code",
   "execution_count": 3,
   "metadata": {},
   "outputs": [],
   "source": [
    "RAW_DATA_PATH = Path('__file__').resolve().parents[2] / 'data' / '01_raw'\n",
    "PROCESSED_DATA_PATH = Path('__file__').resolve().parents[2] / 'data' / '02_processed'"
   ]
  },
  {
   "cell_type": "code",
   "execution_count": 4,
   "metadata": {},
   "outputs": [],
   "source": [
    "plt.rcParams['font.family'] = 'sans-serif'\n",
    "plt.rcParams['figure.figsize'] = [15, 8]"
   ]
  },
  {
   "cell_type": "code",
   "execution_count": 5,
   "metadata": {},
   "outputs": [],
   "source": [
    "import os "
   ]
  },
  {
   "cell_type": "code",
   "execution_count": 6,
   "metadata": {},
   "outputs": [
    {
     "name": "stdout",
     "output_type": "stream",
     "text": [
      "Communication_Services.csv : no nulls\n",
      "Consumer_Discretionary.csv : no nulls\n",
      "Consumer_Staples.csv : no nulls\n",
      "Energy.csv : no nulls\n",
      "Financials.csv : no nulls\n",
      "Health_Care.csv : no nulls\n",
      "Index_Funds.csv : no nulls\n",
      "Industrials.csv : no nulls\n",
      "Information_Technology.csv : no nulls\n",
      "Utilities_.csv : no nulls\n",
      "Total number of rows:  247688\n"
     ]
    }
   ],
   "source": [
    "for dirpath, _, fname in os.walk(PROCESSED_DATA_PATH):\n",
    "    numrows = 0\n",
    "    for file in fname:\n",
    "        if file.endswith('.csv'):\n",
    "            df = pd.read_csv((dirpath + f'/{file}'))\n",
    "            numrows += df.shape[0]\n",
    "            assert(df.isna().sum().sum() == int(0))\n",
    "            print(file, ':', 'no nulls')\n",
    "    print('Total number of rows: ', numrows)"
   ]
  }
 ],
 "metadata": {
  "kernelspec": {
   "display_name": "data-dev",
   "language": "python",
   "name": "python3"
  },
  "language_info": {
   "codemirror_mode": {
    "name": "ipython",
    "version": 3
   },
   "file_extension": ".py",
   "mimetype": "text/x-python",
   "name": "python",
   "nbconvert_exporter": "python",
   "pygments_lexer": "ipython3",
   "version": "3.12.7"
  }
 },
 "nbformat": 4,
 "nbformat_minor": 2
}
